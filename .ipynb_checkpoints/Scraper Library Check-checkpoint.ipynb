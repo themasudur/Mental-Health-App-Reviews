{
 "cells": [
  {
   "cell_type": "markdown",
   "id": "31f5510d-ce89-483b-83d6-9a5b365bf3e6",
   "metadata": {},
   "source": [
    "We perform a throughly search on \"https://pypi.org/search/?q=appstore-scraper\" and found a lot of scrapers liibrary to download the reviews. We have checked which library is meeting our goal. Here is the result: \n",
    "\n",
    "## https://pypi.org/project/apple-store-scraper/"
   ]
  },
  {
   "cell_type": "code",
   "execution_count": 9,
   "id": "fdf8428c-4e74-46e1-9321-926329ca9de9",
   "metadata": {},
   "outputs": [
    {
     "name": "stdout",
     "output_type": "stream",
     "text": [
      "Collecting apple-store-scraper\n",
      "  Obtaining dependency information for apple-store-scraper from https://files.pythonhosted.org/packages/41/24/613d716c62bfef2fcb34180b37fd77b7046fb61abcd8836b429c6d0b46c3/apple_store_scraper-0.3.6-py3-none-any.whl.metadata\n",
      "  Downloading apple_store_scraper-0.3.6-py3-none-any.whl.metadata (5.1 kB)\n",
      "Collecting requests==2.25.1 (from apple-store-scraper)\n",
      "  Obtaining dependency information for requests==2.25.1 from https://files.pythonhosted.org/packages/29/c1/24814557f1d22c56d50280771a17307e6bf87b70727d975fd6b2ce6b014a/requests-2.25.1-py2.py3-none-any.whl.metadata\n",
      "  Downloading requests-2.25.1-py2.py3-none-any.whl.metadata (4.2 kB)\n",
      "Requirement already satisfied: chardet<5,>=3.0.2 in c:\\users\\ddnest002\\anaconda3\\lib\\site-packages (from requests==2.25.1->apple-store-scraper) (3.0.4)\n",
      "Requirement already satisfied: idna<3,>=2.5 in c:\\users\\ddnest002\\anaconda3\\lib\\site-packages (from requests==2.25.1->apple-store-scraper) (2.10)\n",
      "Requirement already satisfied: urllib3<1.27,>=1.21.1 in c:\\users\\ddnest002\\anaconda3\\lib\\site-packages (from requests==2.25.1->apple-store-scraper) (1.25.11)\n",
      "Requirement already satisfied: certifi>=2017.4.17 in c:\\users\\ddnest002\\anaconda3\\lib\\site-packages (from requests==2.25.1->apple-store-scraper) (2024.8.30)\n",
      "Downloading apple_store_scraper-0.3.6-py3-none-any.whl (8.3 kB)\n",
      "Downloading requests-2.25.1-py2.py3-none-any.whl (61 kB)\n",
      "   ---------------------------------------- 0.0/61.2 kB ? eta -:--:--\n",
      "   -------------------- ------------------- 30.7/61.2 kB 1.3 MB/s eta 0:00:01\n",
      "   ---------------------------------------- 61.2/61.2 kB 1.1 MB/s eta 0:00:00\n",
      "Installing collected packages: requests, apple-store-scraper\n",
      "  Attempting uninstall: requests\n",
      "    Found existing installation: requests 2.23.0\n",
      "    Uninstalling requests-2.23.0:\n",
      "      Successfully uninstalled requests-2.23.0\n",
      "Successfully installed apple-store-scraper-0.3.6 requests-2.25.1\n"
     ]
    },
    {
     "name": "stderr",
     "output_type": "stream",
     "text": [
      "ERROR: pip's dependency resolver does not currently take into account all the packages that are installed. This behaviour is the source of the following dependency conflicts.\n",
      "conda-repo-cli 1.0.75 requires requests_mock, which is not installed.\n",
      "anaconda-client 1.12.1 requires urllib3>=1.26.4, but you have urllib3 1.25.11 which is incompatible.\n",
      "app-store-scraper 0.3.5 requires requests==2.23.0, but you have requests 2.25.1 which is incompatible.\n",
      "conda 23.7.4 requires requests<3,>=2.27.0, but you have requests 2.25.1 which is incompatible.\n",
      "conda-repo-cli 1.0.75 requires clyent==1.2.1, but you have clyent 1.2.2 which is incompatible.\n",
      "conda-repo-cli 1.0.75 requires PyYAML==6.0.1, but you have pyyaml 6.0 which is incompatible.\n",
      "conda-repo-cli 1.0.75 requires requests==2.31.0, but you have requests 2.25.1 which is incompatible.\n",
      "jupyterlab-server 2.27.3 requires requests>=2.31, but you have requests 2.25.1 which is incompatible.\n"
     ]
    }
   ],
   "source": [
    "!pip3 install apple-store-scraper -q"
   ]
  },
  {
   "cell_type": "code",
   "execution_count": 19,
   "id": "f09d620f-7834-418c-a6cc-71c6874959d9",
   "metadata": {},
   "outputs": [
    {
     "name": "stderr",
     "output_type": "stream",
     "text": [
      "2024-09-20 18:50:23,137 [INFO] Base - Searching for app id\n",
      "2024-09-20 18:50:24,382 [INFO] Base - Initialised: AppStore('nz', 'woebot-the-mental-health-ally', 1305375832)\n",
      "2024-09-20 18:50:24,393 [INFO] Base - Ready to fetch reviews from: https://apps.apple.com/nz/app/woebot-the-mental-health-ally/id1305375832\n",
      "2024-09-20 18:50:25,742 [INFO] Base - [id:1305375832] Fetched 44 reviews (44 fetched in total)\n"
     ]
    },
    {
     "name": "stdout",
     "output_type": "stream",
     "text": [
      "44\n"
     ]
    }
   ],
   "source": [
    "# https://apps.apple.com/us/app/woebot-the-mental-health-ally/id1305375832\n",
    "\n",
    "from apple_store_scraper import AppStore\n",
    "from pprint import pprint\n",
    "\n",
    "minecraft = AppStore(country=\"nz\", app_name=\"woebot-the-mental-health-ally\")\n",
    "# minecraft.review(how_many=20)\n",
    "minecraft.review()\n",
    "\n",
    "#pprint(minecraft.reviews)\n",
    "pprint(minecraft.reviews_count)"
   ]
  },
  {
   "cell_type": "code",
   "execution_count": 23,
   "id": "f383e7bc-e65d-4fae-897f-db2c0baac8b7",
   "metadata": {},
   "outputs": [
    {
     "name": "stderr",
     "output_type": "stream",
     "text": [
      "2024-09-20 18:52:28,842 [INFO] Base - Searching for app id\n",
      "2024-09-20 18:52:30,394 [INFO] Base - Initialised: AppStore('us', 'woebot-the-mental-health-ally', 1305375832)\n",
      "2024-09-20 18:52:30,394 [INFO] Base - Ready to fetch reviews from: https://apps.apple.com/us/app/woebot-the-mental-health-ally/id1305375832\n",
      "2024-09-20 18:52:35,622 [INFO] Base - [id:1305375832] Fetched 220 reviews (220 fetched in total)\n",
      "2024-09-20 18:52:41,288 [INFO] Base - [id:1305375832] Fetched 460 reviews (460 fetched in total)\n",
      "2024-09-20 18:52:46,905 [INFO] Base - [id:1305375832] Fetched 700 reviews (700 fetched in total)\n",
      "2024-09-20 18:52:52,398 [INFO] Base - [id:1305375832] Fetched 940 reviews (940 fetched in total)\n",
      "2024-09-20 18:52:58,187 [INFO] Base - [id:1305375832] Fetched 1180 reviews (1180 fetched in total)\n",
      "2024-09-20 18:53:03,869 [INFO] Base - [id:1305375832] Fetched 1400 reviews (1400 fetched in total)\n",
      "2024-09-20 18:53:09,801 [INFO] Base - [id:1305375832] Fetched 1620 reviews (1620 fetched in total)\n",
      "2024-09-20 18:53:15,575 [INFO] Base - [id:1305375832] Fetched 1840 reviews (1840 fetched in total)\n",
      "2024-09-20 18:53:21,557 [INFO] Base - [id:1305375832] Fetched 2060 reviews (2060 fetched in total)\n",
      "2024-09-20 18:53:27,348 [INFO] Base - [id:1305375832] Fetched 2280 reviews (2280 fetched in total)\n",
      "2024-09-20 18:53:32,965 [INFO] Base - [id:1305375832] Fetched 2500 reviews (2500 fetched in total)\n",
      "2024-09-20 18:53:38,870 [INFO] Base - [id:1305375832] Fetched 2720 reviews (2720 fetched in total)\n",
      "2024-09-20 18:53:44,452 [INFO] Base - [id:1305375832] Fetched 2940 reviews (2940 fetched in total)\n",
      "2024-09-20 18:53:50,258 [INFO] Base - [id:1305375832] Fetched 3160 reviews (3160 fetched in total)\n",
      "2024-09-20 18:53:55,907 [INFO] Base - [id:1305375832] Fetched 3380 reviews (3380 fetched in total)\n",
      "2024-09-20 18:53:57,446 [INFO] Base - [id:1305375832] Fetched 3429 reviews (3429 fetched in total)\n"
     ]
    },
    {
     "name": "stdout",
     "output_type": "stream",
     "text": [
      "3429\n"
     ]
    }
   ],
   "source": [
    "# https://apps.apple.com/us/app/woebot-the-mental-health-ally/id1305375832\n",
    "\n",
    "from apple_store_scraper import AppStore\n",
    "from pprint import pprint\n",
    "\n",
    "minecraft = AppStore(country=\"us\", app_name=\"woebot-the-mental-health-ally\")\n",
    "# minecraft.review(how_many=20)\n",
    "minecraft.review()\n",
    "\n",
    "#pprint(minecraft.reviews)\n",
    "pprint(minecraft.reviews_count)"
   ]
  }
 ],
 "metadata": {
  "kernelspec": {
   "display_name": "Python 3 (ipykernel)",
   "language": "python",
   "name": "python3"
  },
  "language_info": {
   "codemirror_mode": {
    "name": "ipython",
    "version": 3
   },
   "file_extension": ".py",
   "mimetype": "text/x-python",
   "name": "python",
   "nbconvert_exporter": "python",
   "pygments_lexer": "ipython3",
   "version": "3.11.5"
  }
 },
 "nbformat": 4,
 "nbformat_minor": 5
}
